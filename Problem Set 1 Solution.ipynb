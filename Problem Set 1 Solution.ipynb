{
 "cells": [
  {
   "cell_type": "markdown",
   "id": "cf8ca77b",
   "metadata": {},
   "source": [
    "Question 1\n",
    "What data type is each of the following?\n",
    "5 \n",
    "5.0\n",
    "5 > 1\n",
    "'5'\n",
    "5 * 2\n",
    "'5' * 2\n",
    "'5' + '2'\n",
    "5 / 2\n",
    "5 % 2\n",
    "{5, 2, 1}\n",
    "5 == 3\n",
    "Pi (the number)"
   ]
  },
  {
   "cell_type": "markdown",
   "id": "1d1b8c95",
   "metadata": {},
   "source": [
    "Answer 1\n",
    "5 = Int\n",
    "5.0= Float\n",
    "5 > 1= Booleen\n",
    "'5' = Char\n",
    "5 * 2 =Int\n",
    "'5' * 2 = Int\n",
    "'5' + '2' = String\n",
    "5 / 2 = Float\n",
    "5 % 2 = int\n",
    "{5, 2, 1} = Set\n",
    "5 == 3 Boolean\n",
    "Pi = 3.14 So the data type is float"
   ]
  },
  {
   "cell_type": "markdown",
   "id": "73d94a76",
   "metadata": {},
   "source": [
    "Question 2\n",
    "a. Write (and evaluate) C# expressions that answer these questions:"
   ]
  },
  {
   "cell_type": "code",
   "execution_count": 13,
   "id": "7fa891ee",
   "metadata": {},
   "outputs": [
    {
     "name": "stdout",
     "output_type": "stream",
     "text": [
      "Total number of characters in 'Supercalifragilisticexpialidocious':34\r\n"
     ]
    }
   ],
   "source": [
    "String str = \"Supercalifragilisticexpialidocious\";\n",
    "int count = 0;\n",
    "//count is used to count the string \n",
    "int i = 0;\n",
    "while (i<str.Length)\n",
    "{\n",
    "count++;\n",
    "i++;\n",
    "}\n",
    "Console.WriteLine(\"Total number of characters in 'Supercalifragilisticexpialidocious':\"+count);"
   ]
  },
  {
   "cell_type": "markdown",
   "id": "04c6b420",
   "metadata": {},
   "source": [
    "Question 2\n",
    "b. Does 'Supercalifragilisticexpialidocious' contain 'ice' as a substring?"
   ]
  },
  {
   "cell_type": "code",
   "execution_count": 2,
   "id": "17a91478",
   "metadata": {},
   "outputs": [
    {
     "name": "stdout",
     "output_type": "stream",
     "text": [
      "Yes,'Supercalifragilisticepialidocious' contain 'ice'\r\n"
     ]
    }
   ],
   "source": [
    "String st =\"Supercalifragilisticepialidocious\";\n",
    "String subst = \"ice\";\n",
    "if(st.Contains(subst)==true)\n",
    "Console.WriteLine(\"Yes,'Supercalifragilisticepialidocious' contain 'ice'\");\n",
    "else\n",
    "Console.WriteLine(\"Substring 'ice' not present\");"
   ]
  },
  {
   "cell_type": "markdown",
   "id": "23fbb89c",
   "metadata": {},
   "source": [
    "Question 2\n",
    "c. Which of the following words is the longest:Supercalifragilisticexpialidocious, Honorificabilitudinitatibus, or Bababadalgharaghtakamminarronnkonn? "
   ]
  },
  {
   "cell_type": "code",
   "execution_count": 15,
   "id": "21247b6b",
   "metadata": {},
   "outputs": [
    {
     "name": "stdout",
     "output_type": "stream",
     "text": [
      "Total number of characters in 'Supercalifragilisticexpialidocious':34\n",
      "Total number of characters in 'Honorificabilitudinitatibus':27\n",
      "Total number of characters in 'Bababadalgharaghtakamminarronnkonn':34\n",
      "The longest characters is 'Supercalifragilisticexpialidocious'and 'Bababadalgharaghtakamminarronnkonn'\n"
     ]
    }
   ],
   "source": [
    "String str1 = \"Supercalifragilisticexpialidocious\", str2 = \"Honorificabilitudinitatibus\", str3 = \"Bababadalgharaghtakamminarronnkonn\";\n",
    "int count1 = 0, count2 = 0, count3 = 0;\n",
    "for(int i = 0; i<str1.Length;i++)\n",
    "{\n",
    "count1++;\n",
    "}\n",
    "Console.WriteLine(\"Total number of characters in 'Supercalifragilisticexpialidocious':\"+count1);\n",
    "for(int j = 0; j<str2.Length;j++)\n",
    "{\n",
    "count2++;\n",
    "}\n",
    "Console.WriteLine(\"Total number of characters in 'Honorificabilitudinitatibus':\"+count2);\n",
    "for(int k = 0; k<str3.Length;k++)\n",
    "{\n",
    "count3++;\n",
    "}\n",
    "Console.WriteLine(\"Total number of characters in 'Bababadalgharaghtakamminarronnkonn':\"+count3);\n",
    "if(count1>count2&&count3>count2)\n",
    "{\n",
    "Console.WriteLine(\"The longest characters is 'Supercalifragilisticexpialidocious'and 'Bababadalgharaghtakamminarronnkonn'\");\n",
    "}\n",
    "else\n",
    "{\n",
    "Console.WriteLine(\"The longest characters is 'Honorificabilitudinitatibus'\");\n",
    "}"
   ]
  },
  {
   "cell_type": "markdown",
   "id": "2f5eaa06",
   "metadata": {},
   "source": [
    "d. Which composer comes first in the dictionary: 'Berlioz', 'Borodin', 'Brian', \n",
    "'Bartok', 'Bellini', 'Buxtehude', 'Bernstein'. Which one comes last?\n"
   ]
  },
  {
   "cell_type": "code",
   "execution_count": null,
   "id": "b377147e",
   "metadata": {},
   "outputs": [],
   "source": []
  },
  {
   "cell_type": "markdown",
   "id": "896f9781",
   "metadata": {},
   "source": [
    "Question 3\n",
    "Implement function triangleArea(a,b,c) that takes as input the lengths of the 3 sides of a triangle and returns the area of the triangle. By Heron's formula, the area of a triangle with side lengths a, b, and c is s(s - a)(s -b)(s -c), where s = (a+b+c)/2. \n",
    ">>> triangleArea(2,2,2)\n",
    "1.7320508075688772"
   ]
  },
  {
   "cell_type": "code",
   "execution_count": 8,
   "id": "9359faba",
   "metadata": {},
   "outputs": [
    {
     "name": "stdout",
     "output_type": "stream",
     "text": [
      "s=3\n",
      "Area Of Triangle=1.7320508075688772\n"
     ]
    }
   ],
   "source": [
    "int a = 2,  b = 2, c = 2;\n",
    "double s = (a + b + c) /2;\n",
    "double Area = Math.Sqrt(s*(s-a)*(s-b)*(s-c));\n",
    "Console.WriteLine(\"s=\" +s);\n",
    "Console.WriteLine(\"Area Of Triangle=\" +Area);"
   ]
  },
  {
   "cell_type": "markdown",
   "id": "35bf5103",
   "metadata": {},
   "source": [
    "Question4 \n",
    "Write a program in C# Sharp to separate odd and even integers in separate arrays. \n",
    "Go to the editor\n",
    "Test Data :\n",
    "Input the number of elements to be stored in the array :5\n",
    "Input 5 elements in the array :\n",
    "element - 0 : 25\n",
    "element - 1 : 47\n",
    "element - 2 : 42\n",
    "element - 3 : 56\n",
    "element - 4 : 32\n",
    "Expected Output:\n",
    "The Even elements are:\n",
    "42 56 32\n",
    "The Odd elements are :\n",
    "25 47\n",
    " \n",
    "Reference Link: https://www.tutorialspoint.com/Chash-program-to-split-the-Even-and-Odd-integers-into-different-arrays"
   ]
  },
  {
   "cell_type": "code",
   "execution_count": 14,
   "id": "dce659c1",
   "metadata": {},
   "outputs": [
    {
     "ename": "SyntaxError",
     "evalue": "invalid syntax (Temp/ipykernel_2208/469351379.py, line 1)",
     "output_type": "error",
     "traceback": [
      "\u001b[1;36m  File \u001b[1;32m\"C:\\Users\\chitr\\AppData\\Local\\Temp/ipykernel_2208/469351379.py\"\u001b[1;36m, line \u001b[1;32m1\u001b[0m\n\u001b[1;33m    int[] arr1 = new int[]\u001b[0m\n\u001b[1;37m        ^\u001b[0m\n\u001b[1;31mSyntaxError\u001b[0m\u001b[1;31m:\u001b[0m invalid syntax\n"
     ]
    }
   ],
   "source": [
    "int[] arr1 = new int[]\n",
    "{   25,\n",
    "    47,\n",
    "    42,\n",
    "    56,\n",
    "    32};\n",
    "         int[] arr2 = new int[5];\n",
    "         int[] arr3 = new int[5];\n",
    "         int i, j = 0, k = 0;\n",
    "     \n",
    "         for (i = 0; i < 5; i++) {\n",
    "            if (arr1[i] % 2 == 0) {\n",
    "               arr2[j] = arr1[i];\n",
    "               j++;\n",
    "            } else {\n",
    "               arr3[k] = arr1[i];\n",
    "               k++;\n",
    "            }\n",
    "         }\n",
    "         Console.WriteLine(\"Even numbers...\");\n",
    "         for (i = 0; i < j; i++) {\n",
    "            Console.WriteLine(arr2[i]);\n",
    "         }\n",
    "         Console.WriteLine(\"Odd numbers...\");\n",
    "         for (i = 0; i < k; i++) {\n",
    "            Console.WriteLine(arr3[i]);\n",
    "         }"
   ]
  },
  {
   "cell_type": "code",
   "execution_count": 16,
   "id": "0de8ccf9",
   "metadata": {},
   "outputs": [
    {
     "ename": "IndentationError",
     "evalue": "unindent does not match any outer indentation level (<tokenize>, line 11)",
     "output_type": "error",
     "traceback": [
      "\u001b[1;36m  File \u001b[1;32m\"<tokenize>\"\u001b[1;36m, line \u001b[1;32m11\u001b[0m\n\u001b[1;33m    n = Convert.ToInt32(Console.ReadLine());\u001b[0m\n\u001b[1;37m    ^\u001b[0m\n\u001b[1;31mIndentationError\u001b[0m\u001b[1;31m:\u001b[0m unindent does not match any outer indentation level\n"
     ]
    }
   ],
   "source": [
    "int[] arr1 = new int[10];\n",
    "int[] arr2 = new int[10];\n",
    "int[] arr3 = new int[10];\n",
    "    int i,j=0,k=0,n;\n",
    "\n",
    "\n",
    "       Console.Write(\"\\n\\nSeparate odd and even integers in separate arrays:\\n\");\n",
    "       Console.Write(\"------------------------------------------------------\\n\");\n",
    "\n",
    "       Console.Write(\"Input the number of elements to be stored in the array :\");\n",
    "   n = Convert.ToInt32(Console.ReadLine());\n",
    "   \n",
    "       Console.Write(\"Input {0} elements in the array :\\n\",n);\n",
    "       for(i=0;i<n;i++)\n",
    "            {\n",
    "      Console.Write(\"element - {0} : \",i);\n",
    "      arr1[i] = Convert.ToInt32(Console.ReadLine());   \n",
    "    }\n",
    "\n",
    "    for(i=0;i<n;i++)\n",
    "    {\n",
    "if (arr1[i]%2 == 0)\n",
    "{\n",
    "   arr2[j] = arr1[i];\n",
    "   j++;\n",
    "}\n",
    "else\n",
    "{\n",
    "   arr3[k] = arr1[i];\n",
    "   k++;\n",
    "}\n",
    "    }\n",
    "\n",
    "    Console.Write(\"\\nThe Even elements are : \\n\");\n",
    "    for(i=0;i<j;i++)\n",
    "    {\n",
    "\tConsole.Write(\"{0} \",arr2[i]);\n",
    "    }\n",
    "\n",
    "    Console.Write(\"\\nThe Odd elements are :\\n\");\n",
    "    for(i=0;i<k;i++)\n",
    "    {\n",
    "    Console.Write(\"{0} \", arr3[i]);\n",
    "    }\n",
    "    Console.Write(\"\\n\\n\");\n",
    "   }"
   ]
  },
  {
   "cell_type": "markdown",
   "id": "4bd8e370",
   "metadata": {},
   "source": [
    "Question 5\n",
    "a. Write a function inside(x,y,x1,y1,x2,y2) that returns True or False depending on whether the point (x,y) lies in the rectangle with lower left corner (x1,y1) and upper right corner (x2,y2).\n",
    ">>> inside(1,1,0,0,2,3)\n",
    "True\n",
    ">>> inside(-1,-1,0,0,2,3)\n",
    "False\n",
    "\n",
    "b. Use function inside() from part a. to write an expression that tests whether the point (1,1) lies in both of the following rectangles: one with lower left corner (0.3, 0.5) and upper right corner (1.1, 0.7) and the other with lower left corner (0.5, 0.2) and upper right corner (1.1, 2)."
   ]
  },
  {
   "cell_type": "markdown",
   "id": "c3254805",
   "metadata": {},
   "source": [
    "Question 6\n",
    "You can turn a word into pig-Latin using the following two rules (simplified):\n",
    "• If the word starts with a consonant, move that letter to the end and append 'ay'. For example, 'happy' becomes 'appyhay' and 'pencil' becomes 'encilpay'.\n",
    "• If the word starts with a vowel, simply append 'way' to the end of the word. For example, 'enter' becomes 'enterway' and 'other' becomes 'otherway' . For \n",
    "our purposes, there are 5 vowels: a, e, i, o, u (so we count y as a consonant).\n",
    "Write a function pig() that takes a word (i.e., a string) as input and returns its pig\u0002Latin form. Your function should still work if the input word contains upper case characters. Your output should always be lower case however. \n",
    ">>> pig('happy')\n",
    "'appyhay'\n",
    ">>> pig('Enter')\n",
    "'enterway'"
   ]
  },
  {
   "cell_type": "markdown",
   "id": "cef6f4c9",
   "metadata": {},
   "source": [
    "Question 7\n",
    "File bloodtype1.txt records blood-types of patients (A, B, AB, O or OO) at a clinic. \n",
    "Write a function bldcount() that reads the file with name name and reports (i.e., \n",
    "prints) how many patients there are in each bloodtype.\n",
    ">>> bldcount('bloodtype.txt')\n",
    "There are 10 patients of blood type A.\n",
    "There is one patient of blood type B.\n",
    "There are 10 patients of blood type AB.\n",
    "There are 12 patients of blood type O.\n",
    "There are no patients of blood type OO."
   ]
  },
  {
   "cell_type": "markdown",
   "id": "f3e7feae",
   "metadata": {},
   "source": [
    "Question 8\n",
    "Write a function curconv() that takes as input:\n",
    "1. a currency represented using a string (e.g., 'JPY' for the Japanese Yen or \n",
    "'EUR' for the Euro)\n",
    "2. an amount\n",
    "and then converts and returns the amount in US dollars.\n",
    ">>> curconv('EUR', 100)\n",
    "122.96544\n",
    ">>> curconv('JPY', 100)\n",
    "1.241401"
   ]
  },
  {
   "cell_type": "code",
   "execution_count": 8,
   "id": "61169e49",
   "metadata": {},
   "outputs": [
    {
     "ename": "SyntaxError",
     "evalue": "(unicode error) 'unicodeescape' codec can't decode bytes in position 2-3: truncated \\UXXXXXXXX escape (Temp/ipykernel_22208/748909272.py, line 3)",
     "output_type": "error",
     "traceback": [
      "\u001b[1;36m  File \u001b[1;32m\"C:\\Users\\chitr\\AppData\\Local\\Temp/ipykernel_22208/748909272.py\"\u001b[1;36m, line \u001b[1;32m3\u001b[0m\n\u001b[1;33m    mycurrenciesrates = open('C:\\Users\\chitr\\Desktop\\currencies.txt','r')\u001b[0m\n\u001b[1;37m                                                                    ^\u001b[0m\n\u001b[1;31mSyntaxError\u001b[0m\u001b[1;31m:\u001b[0m (unicode error) 'unicodeescape' codec can't decode bytes in position 2-3: truncated \\UXXXXXXXX escape\n"
     ]
    }
   ],
   "source": [
    "def curconv(currency, amount):\n",
    "    coverted = 0;\n",
    "    mycurrenciesrates = open('C:\\Users\\chitr\\Desktop\\currencies.txt','r')\n",
    "    currency_rates = rates.readlines()\n",
    "    for i in range(len(currency_rates)):\n",
    "        separate = currency_rates[0].split()\n",
    "        if currency in separate:\n",
    "            converted = amount * float(separate[1])\n",
    "            break\n",
    "    return converted\n",
    "print(curconv(\"AUD\",100))"
   ]
  },
  {
   "cell_type": "markdown",
   "id": "70c64654",
   "metadata": {},
   "source": [
    "Question 9\n",
    "Each of the following will cause an exception (an error). Identify what type of exception each will cause.\n",
    "Trying to add incompatible variables, as in \n",
    "adding 6 + ‘a’\n",
    "Referring to the 12th item of a list that has only 10 \n",
    "items\n",
    "Using a value that is out of range for a function’s \n",
    "input, such as calling math.sqrt(-1.0)\n",
    "Using an undeclared variable, such as print(x)\n",
    "when x has not been defined \n",
    "Trying to open a file that does not exist, such as \n",
    "mistyping the file name or looking in the wrong \n",
    "directory. \n"
   ]
  },
  {
   "cell_type": "code",
   "execution_count": 8,
   "id": "fb79ebea",
   "metadata": {},
   "outputs": [
    {
     "ename": "TypeError",
     "evalue": "unsupported operand type(s) for +: 'int' and 'str'",
     "output_type": "error",
     "traceback": [
      "\u001b[1;31m---------------------------------------------------------------------------\u001b[0m",
      "\u001b[1;31mTypeError\u001b[0m                                 Traceback (most recent call last)",
      "\u001b[1;32m~\\AppData\\Local\\Temp/ipykernel_8724/980520983.py\u001b[0m in \u001b[0;36m<module>\u001b[1;34m\u001b[0m\n\u001b[1;32m----> 1\u001b[1;33m \u001b[1;36m6\u001b[0m \u001b[1;33m+\u001b[0m\u001b[1;34m'a'\u001b[0m\u001b[1;33m\u001b[0m\u001b[1;33m\u001b[0m\u001b[0m\n\u001b[0m",
      "\u001b[1;31mTypeError\u001b[0m: unsupported operand type(s) for +: 'int' and 'str'"
     ]
    }
   ],
   "source": [
    "6 +'a'"
   ]
  },
  {
   "cell_type": "code",
   "execution_count": 1,
   "id": "d939e86d",
   "metadata": {},
   "outputs": [
    {
     "ename": "NameError",
     "evalue": "name 'math' is not defined",
     "output_type": "error",
     "traceback": [
      "\u001b[1;31m---------------------------------------------------------------------------\u001b[0m",
      "\u001b[1;31mNameError\u001b[0m                                 Traceback (most recent call last)",
      "\u001b[1;32m~\\AppData\\Local\\Temp/ipykernel_1456/2508052996.py\u001b[0m in \u001b[0;36m<module>\u001b[1;34m\u001b[0m\n\u001b[1;32m----> 1\u001b[1;33m \u001b[0mmath\u001b[0m\u001b[1;33m.\u001b[0m\u001b[0msqrt\u001b[0m\u001b[1;33m(\u001b[0m\u001b[1;33m-\u001b[0m\u001b[1;36m1.0\u001b[0m\u001b[1;33m)\u001b[0m\u001b[1;33m\u001b[0m\u001b[1;33m\u001b[0m\u001b[0m\n\u001b[0m",
      "\u001b[1;31mNameError\u001b[0m: name 'math' is not defined"
     ]
    }
   ],
   "source": [
    "math.sqrt(-1.0)"
   ]
  },
  {
   "cell_type": "code",
   "execution_count": 1,
   "id": "7f72f57b",
   "metadata": {},
   "outputs": [
    {
     "ename": "TypeError",
     "evalue": "'List' is an invalid keyword argument for print()",
     "output_type": "error",
     "traceback": [
      "\u001b[1;31m---------------------------------------------------------------------------\u001b[0m",
      "\u001b[1;31mTypeError\u001b[0m                                 Traceback (most recent call last)",
      "\u001b[1;32m~\\AppData\\Local\\Temp/ipykernel_22208/3956588797.py\u001b[0m in \u001b[0;36m<module>\u001b[1;34m\u001b[0m\n\u001b[0;32m      1\u001b[0m \u001b[0mList\u001b[0m\u001b[1;33m=\u001b[0m\u001b[1;33m[\u001b[0m\u001b[1;36m1\u001b[0m\u001b[1;33m,\u001b[0m\u001b[1;36m2\u001b[0m\u001b[1;33m,\u001b[0m\u001b[1;36m3\u001b[0m\u001b[1;33m,\u001b[0m\u001b[1;36m4\u001b[0m\u001b[1;33m,\u001b[0m\u001b[1;36m5\u001b[0m\u001b[1;33m,\u001b[0m\u001b[1;36m6\u001b[0m\u001b[1;33m,\u001b[0m\u001b[1;36m7\u001b[0m\u001b[1;33m,\u001b[0m\u001b[1;36m8\u001b[0m\u001b[1;33m,\u001b[0m\u001b[1;36m9\u001b[0m\u001b[1;33m,\u001b[0m\u001b[1;36m10\u001b[0m\u001b[1;33m]\u001b[0m\u001b[1;33m\u001b[0m\u001b[1;33m\u001b[0m\u001b[0m\n\u001b[1;32m----> 2\u001b[1;33m \u001b[0mprint\u001b[0m\u001b[1;33m(\u001b[0m\u001b[0mList\u001b[0m \u001b[1;33m=\u001b[0m\u001b[1;36m12\u001b[0m\u001b[1;33m)\u001b[0m\u001b[1;33m\u001b[0m\u001b[1;33m\u001b[0m\u001b[0m\n\u001b[0m",
      "\u001b[1;31mTypeError\u001b[0m: 'List' is an invalid keyword argument for print()"
     ]
    }
   ],
   "source": [
    "List=[1,2,3,4,5,6,7,8,9,10]\n",
    "print(List =12)"
   ]
  },
  {
   "cell_type": "code",
   "execution_count": 7,
   "id": "c69aa52d",
   "metadata": {},
   "outputs": [
    {
     "ename": "NameError",
     "evalue": "name 'x' is not defined",
     "output_type": "error",
     "traceback": [
      "\u001b[1;31m---------------------------------------------------------------------------\u001b[0m",
      "\u001b[1;31mNameError\u001b[0m                                 Traceback (most recent call last)",
      "\u001b[1;32m~\\AppData\\Local\\Temp/ipykernel_2208/989579100.py\u001b[0m in \u001b[0;36m<module>\u001b[1;34m\u001b[0m\n\u001b[1;32m----> 1\u001b[1;33m \u001b[0mprint\u001b[0m\u001b[1;33m(\u001b[0m\u001b[0mx\u001b[0m\u001b[1;33m)\u001b[0m\u001b[1;33m;\u001b[0m\u001b[1;33m\u001b[0m\u001b[1;33m\u001b[0m\u001b[0m\n\u001b[0m",
      "\u001b[1;31mNameError\u001b[0m: name 'x' is not defined"
     ]
    }
   ],
   "source": [
    "print(x);"
   ]
  },
  {
   "cell_type": "code",
   "execution_count": 1,
   "id": "181600de",
   "metadata": {},
   "outputs": [
    {
     "ename": "FileNotFoundError",
     "evalue": "[Errno 2] No such file or directory: 'file.txt'",
     "output_type": "error",
     "traceback": [
      "\u001b[1;31m---------------------------------------------------------------------------\u001b[0m",
      "\u001b[1;31mFileNotFoundError\u001b[0m                         Traceback (most recent call last)",
      "\u001b[1;32m~\\AppData\\Local\\Temp/ipykernel_9988/410653688.py\u001b[0m in \u001b[0;36m<module>\u001b[1;34m\u001b[0m\n\u001b[1;32m----> 1\u001b[1;33m \u001b[0mFile\u001b[0m\u001b[1;33m=\u001b[0m\u001b[0mopen\u001b[0m\u001b[1;33m(\u001b[0m\u001b[1;34m\"file.txt\"\u001b[0m\u001b[1;33m)\u001b[0m\u001b[1;33m\u001b[0m\u001b[1;33m\u001b[0m\u001b[0m\n\u001b[0m\u001b[0;32m      2\u001b[0m \u001b[0mConsole\u001b[0m\u001b[1;33m.\u001b[0m\u001b[0mWriteLine\u001b[0m\u001b[1;33m(\u001b[0m\u001b[0mFile\u001b[0m\u001b[1;33m.\u001b[0m\u001b[0mread\u001b[0m\u001b[1;33m(\u001b[0m\u001b[1;33m)\u001b[0m\u001b[1;33m)\u001b[0m\u001b[1;33m\u001b[0m\u001b[1;33m\u001b[0m\u001b[0m\n",
      "\u001b[1;31mFileNotFoundError\u001b[0m: [Errno 2] No such file or directory: 'file.txt'"
     ]
    }
   ],
   "source": [
    "File=open(\"file.txt\")\n",
    "Console.WriteLine(File.read())"
   ]
  },
  {
   "cell_type": "markdown",
   "id": "4fd3f583",
   "metadata": {},
   "source": [
    "Question 10\n",
    "\n",
    "Encryption is the process of hiding the meaning of a text by substituting letters in the message with other letters, according to some system. If the process is successful, no one but the intended recipient can understand the encrypted message. Cryptanalysis refers to attempts to undo the encryption, even if some details of the encryption are  unknown (for example, if an encrypted message has been intercepted). The first step  of cryptanalysis is often to build up a table of letter frequencies in the encrypted text.Assume that the string letters is already defined as 'abcdefghijklmnopqrstuvwxyz'. Write a function called frequencies() that takes a string as its only parameter, and returns a list of integers, showing the number of times each character appears in the text. Your function may ignore any characters that are not in letters. "
   ]
  }
 ],
 "metadata": {
  "kernelspec": {
   "display_name": "Python 3 (ipykernel)",
   "language": "python",
   "name": "python3"
  },
  "language_info": {
   "codemirror_mode": {
    "name": "ipython",
    "version": 3
   },
   "file_extension": ".py",
   "mimetype": "text/x-python",
   "name": "python",
   "nbconvert_exporter": "python",
   "pygments_lexer": "ipython3",
   "version": "3.9.7"
  }
 },
 "nbformat": 4,
 "nbformat_minor": 5
}
